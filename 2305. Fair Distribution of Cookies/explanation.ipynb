{
 "cells": [
  {
   "cell_type": "markdown",
   "metadata": {},
   "source": [
    "# Problem\n",
    "You are given an integer array `cookies`, where `cookies[i]` denotes the number of cookies in the ith bag. You are also given an integer `k` that denotes the number of children to distribute all the bags of cookies to. All the cookies in the same bag must go to the same child and cannot be split up.\n",
    "\n",
    "The unfairness of a distribution is defined as the maximum total cookies obtained by a single child in the distribution.\n",
    "\n",
    "Return the minimum unfairness of all distributions.\n",
    "\n",
    "# Example 1:\n",
    "```\n",
    "Input: cookies = [8,15,10,20,8], k = 2\n",
    "Output: 31\n",
    "Explanation: One optimal distribution is [8,15,8] and [10,20]\n",
    "- The 1st child receives [8,15,8] which has a total of 8 + 15 + 8 = 31 cookies.\n",
    "- The 2nd child receives [10,20] which has a total of 10 + 20 = 30 cookies.\n",
    "The unfairness of the distribution is max(31,30) = 31.\n",
    "It can be shown that there is no distribution with an unfairness less than 31.\n",
    "```\n",
    "\n",
    "# Example 2:\n",
    "```\n",
    "Input: cookies = [6,1,3,2,2,4,1,2], k = 3\n",
    "Output: 7\n",
    "Explanation: One optimal distribution is [6,1], [3,2,2], and [4,1,2]\n",
    "- The 1st child receives [6,1] which has a total of 6 + 1 = 7 cookies.\n",
    "- The 2nd child receives [3,2,2] which has a total of 3 + 2 + 2 = 7 cookies.\n",
    "- The 3rd child receives [4,1,2] which has a total of 4 + 1 + 2 = 7 cookies.\n",
    "The unfairness of the distribution is max(7,7,7) = 7.\n",
    "It can be shown that there is no distribution with an unfairness less than 7.\n",
    "```\n",
    "\n",
    "# Constraints:\n",
    "```\n",
    "2 <= cookies.length <= 8\n",
    "1 <= cookies[i] <= 105\n",
    "2 <= k <= cookies.length\n",
    "```"
   ]
  },
  {
   "cell_type": "markdown",
   "metadata": {},
   "source": [
    "# Solution\n",
    "The solution uses something called backtracking - its a recursive technique that consists of simple brute-forcing.\n",
    "\n",
    "The idea is that we want to check all possible distributions, get the each max unfairness and find the smallest one of them all.\n",
    "So, for an example:\n",
    "```\n",
    "Input: cookies = [1, 2, 3], k = 2\n",
    "```\n",
    "\n",
    "We would check all combinations: `[6, 0] [5, 1] [3, 3]  [1, 5] [0, 6]`\n",
    "\n",
    "Get the max unfairiness out of everyone: `6 5 3 5 6`\n",
    "\n",
    "And take the min out of them: `3`\n",
    "\n",
    "All of that done recursively\n",
    "\n",
    "# Solution improvement\n",
    "We can easily skip douplicate combinations to increase efficiency, all thanks to ignoring different \"starting\" distributions (see line 22 in solution)."
   ]
  }
 ],
 "metadata": {
  "kernelspec": {
   "display_name": "Python 3.10.0 64-bit",
   "language": "python",
   "name": "python3"
  },
  "language_info": {
   "name": "python",
   "version": "3.10.0"
  },
  "orig_nbformat": 4,
  "vscode": {
   "interpreter": {
    "hash": "4a018b17f88855a4d85a38ecad92792b1c8983eb64bbb9de40a93cd7e776a3a7"
   }
  }
 },
 "nbformat": 4,
 "nbformat_minor": 2
}

{
 "cells": [
  {
   "cell_type": "markdown",
   "metadata": {},
   "source": [
    "# Problem\n",
    "A teacher is writing a test with `n` true/false questions, with `'T'` denoting true and `'F'` denoting false. He wants to confuse the students by maximizing the number of consecutive questions with the same answer (multiple trues or multiple falses in a row).\n",
    "\n",
    "You are given a string `answerKey`, where `answerKey[i]` is the original answer to the ith question. In addition, you are given an integer `k`, the maximum number of times you may perform the following operation:\n",
    "\n",
    "Change the answer key for any question to `'T'` or `'F'` (i.e., set `answerKey[i]` to `'T'` or `'F'`).\n",
    "Return the maximum number of consecutive 'T's or 'F's in the answer key after performing the operation at most k times.\n",
    "\n",
    "\n",
    "# Example 1:\n",
    "```\n",
    "Input: answerKey = \"TTFF\", k = 2\n",
    "Output: 4\n",
    "Explanation: We can replace both the 'F's with 'T's to make answerKey = \"TTTT\".\n",
    "There are four consecutive 'T's.\n",
    "```\n",
    "\n",
    "# Example 2:\n",
    "```\n",
    "Input: answerKey = \"TFFT\", k = 1\n",
    "Output: 3\n",
    "Explanation: We can replace the first 'T' with an 'F' to make answerKey = \"FFFT\".\n",
    "Alternatively, we can replace the second 'T' with an 'F' to make answerKey = \"TFFF\".\n",
    "In both cases, there are three consecutive 'F's.\n",
    "```\n",
    "\n",
    "# Example 3:\n",
    "```\n",
    "Input: answerKey = \"TTFTTFTT\", k = 1\n",
    "Output: 5\n",
    "Explanation: We can replace the first 'F' to make answerKey = \"TTTTTFTT\"\n",
    "Alternatively, we can replace the second 'F' to make answerKey = \"TTFTTTTT\". \n",
    "In both cases, there are five consecutive 'T's.\n",
    "```\n",
    "\n",
    "# Constraints:\n",
    "```\n",
    "n == answerKey.length\n",
    "1 <= n <= 5 * 104\n",
    "answerKey[i] is either 'T' or 'F'\n",
    "1 <= k <= n\n",
    "```"
   ]
  },
  {
   "cell_type": "markdown",
   "metadata": {},
   "source": [
    "# Solution\n",
    "The solution uses a sliding window announced by two pointers `fst` and `snd`.\n",
    "\n",
    "We are mainly interested in creating the longest substring of either `'T'` or `'F'`, so we will use the sliding window to find those longest substrings and choose the longest.\n",
    "\n",
    "The `snd` pointer would move freely until it meets the opposite letter ('T' for 'F' and 'F' for 'T'). When it does we will check if we can do anymore changes, if not then we will move the `fst` pointer until it is possible again.\n",
    "\n",
    "The length is being measured dinamically, according to the moving window."
   ]
  }
 ],
 "metadata": {
  "language_info": {
   "name": "python"
  },
  "orig_nbformat": 4
 },
 "nbformat": 4,
 "nbformat_minor": 2
}

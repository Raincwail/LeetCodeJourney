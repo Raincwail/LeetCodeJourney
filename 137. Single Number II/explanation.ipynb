{
 "cells": [
  {
   "cell_type": "markdown",
   "metadata": {},
   "source": [
    "# Problem\n",
    "\n",
    "Given an integer array `nums` where every element appears three times except for one, which appears exactly once. Find the single element and return it.\n",
    "\n",
    "You must implement a solution with a linear runtime complexity and use only constant extra space.\n",
    "\n",
    " \n",
    "# Example 1:\n",
    "```\n",
    "Input: nums = [2,2,3,2]\n",
    "Output: 3\n",
    "```\n",
    "\n",
    "# Example 2:\n",
    "```\n",
    "Input: nums = [0,1,0,1,0,1,99]\n",
    "Output: 99\n",
    "```\n",
    "\n",
    "# Constraints:\n",
    "```\n",
    "1 <= nums.length <= 3 * 104\n",
    "-231 <= nums[i] <= 231 - 1\n",
    "Each element in nums appears exactly three times except for one element which appears once.\n",
    "```"
   ]
  },
  {
   "cell_type": "markdown",
   "metadata": {},
   "source": [
    "### `singleNumber` is the first, most obvious solution.\n",
    "We just keep of track about all the numbers inside `nums` using a hashmap.\n",
    "Once we checked all the elements, we look into the hashmap, searching for the element with 1 mention.\n",
    "\n",
    "It has linear complexity and linear space usage."
   ]
  },
  {
   "cell_type": "markdown",
   "metadata": {},
   "source": [
    "### `singleNumber2` is the second, space-constant solution.\n",
    "First, we sort out vector, so that we get a vector of triples and the number that we are searching for.\n",
    "\n",
    "Then we iterate through said vector, checking if the triple consists of the same number. As a result, we can run into three possible situations:\n",
    "\n",
    "1. `[a, b, b]` - If the number we are searching for is in the beggining.\n",
    "2. `[b, b, c]` - If the number we are searching for is in the end.\n",
    "3. `[a]` - if there is less than 4 numbers."
   ]
  }
 ],
 "metadata": {
  "kernelspec": {
   "display_name": "Python 3.10.0 64-bit",
   "language": "python",
   "name": "python3"
  },
  "language_info": {
   "name": "python",
   "version": "3.10.0"
  },
  "orig_nbformat": 4,
  "vscode": {
   "interpreter": {
    "hash": "4a018b17f88855a4d85a38ecad92792b1c8983eb64bbb9de40a93cd7e776a3a7"
   }
  }
 },
 "nbformat": 4,
 "nbformat_minor": 2
}
